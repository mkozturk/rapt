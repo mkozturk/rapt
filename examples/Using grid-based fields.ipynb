{
 "metadata": {
  "name": "",
  "signature": "sha256:8a6f20a3dc8643dd6ee1fb075a9abb2fb172aef7cc5fd6e1ac5b96b7d833b168"
 },
 "nbformat": 3,
 "nbformat_minor": 0,
 "worksheets": [
  {
   "cells": [
    {
     "cell_type": "heading",
     "level": 1,
     "metadata": {},
     "source": [
      "Particle tracing using grid-based models"
     ]
    },
    {
     "cell_type": "markdown",
     "metadata": {},
     "source": [
      "RAPT supports two types of field models: Analytic and grid-based.\n",
      "\n",
      "Analytic models express $\\vec{E}(t,x,y,z)$ and $\\vec{B}(t,x,y,z)$ as explicit functions of time and position. However, many magnetospheric models derive the fields from complicated calculations, such as MHD simulations or empirical regressions of data. Such models can be assimilated to RAPT by sampling them on a grid.\n",
      "\n",
      "This notebook shows how to use an existing grid-based model (RCME). Writing a new class of grid model is discussed in another notebook.\n",
      "\n",
      "The data for the grid is stored on one or more files on disk. Each file contains the grid for a specific time point. Grids must be rectangular, not necessarily with uniform spacing, and the grid structure must stay the same at all time points. The input to the grid field is a list of such files, in order of time.\n",
      "\n",
      "If the particle trajectory goes beyond the time or space limits of the grid, an error will be raised. The user is responsible for making sure that the particle stays within the grid.\n",
      "\n",
      "NOTE: For efficient memory use, the grids are parsed and interpolated in triplets, and these triplets are updated as the particle moves on. Grids at earlier time values are forgotten. Therefore, if a new tracer is initialized after a previous one is advanced, the new particle will be out of the bounds of the time."
     ]
    },
    {
     "cell_type": "code",
     "collapsed": false,
     "input": [
      "%matplotlib inline\n",
      "import pylab as pl\n",
      "from mpl_toolkits.mplot3d import Axes3D\n",
      "from time import time\n",
      "import os"
     ],
     "language": "python",
     "metadata": {},
     "outputs": [],
     "prompt_number": 2
    },
    {
     "cell_type": "code",
     "collapsed": false,
     "input": [
      "import numpy as np\n",
      "import rapt\n",
      "from rapt.rcme import RCME"
     ],
     "language": "python",
     "metadata": {},
     "outputs": [],
     "prompt_number": 6
    },
    {
     "cell_type": "markdown",
     "metadata": {},
     "source": [
      "Get the list of local data files that store the grids"
     ]
    },
    {
     "cell_type": "code",
     "collapsed": false,
     "input": [
      "dir = \"/home/kaan/work/E_B_flow_fluctuations_1min_resolution/\"  # local directory of files\n",
      "os.chdir(dir)\n",
      "filelist = sorted(os.listdir(dir))  # Read filenames into a list. List must be ordered in time."
     ],
     "language": "python",
     "metadata": {},
     "outputs": [],
     "prompt_number": 4
    },
    {
     "cell_type": "markdown",
     "metadata": {},
     "source": [
      "Initialize the field object with the given file list. Initialization takes some time because large data files are parsed and interpolated."
     ]
    },
    {
     "cell_type": "code",
     "collapsed": false,
     "input": [
      "f = RCME(filelist)"
     ],
     "language": "python",
     "metadata": {},
     "outputs": []
    },
    {
     "cell_type": "code",
     "collapsed": false,
     "input": [
      "pos0 = [-18.58*rapt.Re,3.3412*rapt.Re,0]\n",
      "v = rapt.utils.speedfromKE(2e4, rapt.m_el)"
     ],
     "language": "python",
     "metadata": {},
     "outputs": [],
     "prompt_number": 12
    },
    {
     "cell_type": "code",
     "collapsed": false,
     "input": [
      "g1 = rapt.GuidingCenter( pos0, v, pa=90, t0=0, mass=rapt.m_el, charge=-rapt.e, field=f)"
     ],
     "language": "python",
     "metadata": {},
     "outputs": [],
     "prompt_number": 13
    },
    {
     "cell_type": "code",
     "collapsed": false,
     "input": [
      "t1 = time()\n",
      "g1.advance(10)\n",
      "t2 = time()\n",
      "print(\"Elapsed time: \", t2-t1, flush=True)"
     ],
     "language": "python",
     "metadata": {},
     "outputs": [
      {
       "output_type": "stream",
       "stream": "stdout",
       "text": [
        "Elapsed time:  473.5818135738373\n"
       ]
      }
     ],
     "prompt_number": 17
    },
    {
     "cell_type": "code",
     "collapsed": false,
     "input": [
      "pl.plot(g1.getx()/rapt.Re, g1.gety()/rapt.Re)\n",
      "pl.xlabel(\"x [Re]\")\n",
      "pl.ylabel(\"y [Re]\")\n",
      "pl.title(\"20keV electron under RCME, t=0-220s\")"
     ],
     "language": "python",
     "metadata": {},
     "outputs": [
      {
       "metadata": {},
       "output_type": "pyout",
       "prompt_number": 22,
       "text": [
        "<matplotlib.text.Text at 0x7f2e8ecbc128>"
       ]
      },
      {
       "metadata": {},
       "output_type": "display_data",
       "png": "[encoded data removed]",
       "text": [
        "<matplotlib.figure.Figure at 0x7f2e8ed53ac8>"
       ]
      }
     ],
     "prompt_number": 22
    },
    {
     "cell_type": "code",
     "collapsed": false,
     "input": [
      "g1.tcur"
     ],
     "language": "python",
     "metadata": {},
     "outputs": [
      {
       "metadata": {},
       "output_type": "pyout",
       "prompt_number": 20,
       "text": [
        "222.08480766906598"
       ]
      }
     ],
     "prompt_number": 20
    }
   ],
   "metadata": {}
  }
 ]
}