{
 "metadata": {
  "name": "",
  "signature": "sha256:05280da19004e75d9e31fd74082606bdf82b0045db4c82eb190399c9cb81a04e"
 },
 "nbformat": 3,
 "nbformat_minor": 0,
 "worksheets": [
  {
   "cells": [
    {
     "cell_type": "heading",
     "level": 1,
     "metadata": {},
     "source": [
      "Adding new analytic field models"
     ]
    },
    {
     "cell_type": "markdown",
     "metadata": {},
     "source": [
      "Currently RAPT has a limited selection of field models. However, it is easy to add new field models to it. In this notebook we describe how to add analytic fields (i.e., fields that have an explicit formula in terms of t, x, y, and z)."
     ]
    },
    {
     "cell_type": "markdown",
     "metadata": {},
     "source": [
      "All new fields are subclasses of the `_Field` class. By subclassing, the new field class inherits all the auxiliary field-related functions, so we don't have to write them  again. All we need to provide is the new `E` and `B`. This is called _overriding_ in OOP parlance."
     ]
    },
    {
     "cell_type": "heading",
     "level": 2,
     "metadata": {},
     "source": [
      "Overriding the static magnetic field: Double-dipole model"
     ]
    },
    {
     "cell_type": "markdown",
     "metadata": {},
     "source": [
      "This model is already built into the RAPT package, but it provides a good example for creating new fields. The double-dipole model consists of two identical dipoles, both moments in the negative-z direction, separated by 20$R_e$. This arrangement generates a planar magnetopause between them, and mimics the compression of the dayside magnetosphere by the solar wind."
     ]
    },
    {
     "cell_type": "code",
     "collapsed": false,
     "input": [
      "%matplotlib inline\n",
      "import pylab as pl"
     ],
     "language": "python",
     "metadata": {},
     "outputs": []
    },
    {
     "cell_type": "code",
     "collapsed": false,
     "input": [
      "import rapt\n",
      "import numpy as np"
     ],
     "language": "python",
     "metadata": {},
     "outputs": [],
     "prompt_number": 2
    },
    {
     "cell_type": "code",
     "collapsed": false,
     "input": [
      "class DoubleDipole(rapt.fields._Field):\n",
      "    def __init__(self, B0=rapt.B0, distance=20*rapt.Re, imagestrength=1):\n",
      "        rapt.fields._Field.__init__(self)\n",
      "        self.gradientstepsize = rapt.Re/1000\n",
      "        self._dd = distance  # distance between two dipoles\n",
      "        assert imagestrength >= 1\n",
      "        self._k = imagestrength   # >=1. Relative strength of the image dipole\n",
      "        self._coeff = -B0*rapt.Re**3 \n",
      "        \n",
      "    def B(self, tpos):\n",
      "        t,x,y,z = tpos\n",
      "        B1 =  np.array([3*x*z, 3*y*z, (2*z*z -x*x- y*y)]) / pow(x*x+y*y+z*z, 5.0/2.0)\n",
      "        x -= self._dd\n",
      "        B2 = self._k * np.array([3*x*z, 3*y*z, (2*z*z -x*x- y*y)]) / pow(x*x+y*y+z*z, 5.0/2.0)\n",
      "        return self._coeff*(B1+B2)"
     ],
     "language": "python",
     "metadata": {},
     "outputs": [],
     "prompt_number": 5
    },
    {
     "cell_type": "heading",
     "level": 2,
     "metadata": {},
     "source": [
      "Extending with an electric field: Electrically charged magnet"
     ]
    },
    {
     "cell_type": "markdown",
     "metadata": {},
     "source": [
      "As an entirely new model, consider a magnetic dipole coincident with an electric charge. To construct a new class, we override both `E` and `B`."
     ]
    },
    {
     "cell_type": "code",
     "collapsed": false,
     "input": [
      "class ChargedDipole(rapt.fields._Field):\n",
      "    def __init__(self, B0=1, Q=1):\n",
      "        rapt.fields._Field.__init__(self)\n",
      "        self.B0=B0  # field strength (T) at unit distance on the x-y plane\n",
      "        self.Q=Q    # charge (C)\n",
      "        self._k = 8.9875517873681764e9 # Coulomb constant\n",
      "        self.static = False  # needs to be set to false if E and/or dB/dt is nonzero.\n",
      "    \n",
      "    def B(self, tpos):\n",
      "        t,x,y,z = tpos\n",
      "        return self.B0 * np.array([3*x*z, 3*y*z, (2*z*z -x*x- y*y)]) / pow(x*x+y*y+z*z, 5.0/2.0)\n",
      "    \n",
      "    def E(self, tpos):\n",
      "        t,x,y,z = tpos\n",
      "        return  self._k*self.Q * np.array([x,y,z]) / pow(x*x+y*y+z*z, 3.0/2.0)"
     ],
     "language": "python",
     "metadata": {},
     "outputs": [],
     "prompt_number": 152
    },
    {
     "cell_type": "markdown",
     "metadata": {},
     "source": [
      "Try it out with a small charge."
     ]
    },
    {
     "cell_type": "code",
     "collapsed": false,
     "input": [
      "f = ChargedDipole(Q=1e-6)"
     ],
     "language": "python",
     "metadata": {},
     "outputs": [],
     "prompt_number": 153
    },
    {
     "cell_type": "markdown",
     "metadata": {},
     "source": [
      "Follow a proton's trajectory"
     ]
    },
    {
     "cell_type": "code",
     "collapsed": false,
     "input": [
      "p = rapt.Particle([5,0,0], [0,1,0], t0=0, mass=rapt.m_pr, charge=rapt.e, field=f)\n",
      "p.setke(1)  # set kinetic energy to 1 eV"
     ],
     "language": "python",
     "metadata": {},
     "outputs": [],
     "prompt_number": 155
    },
    {
     "cell_type": "markdown",
     "metadata": {},
     "source": [
      "Check the cyclotron period and cyclotron radius to gain an idea about the scale of the motion."
     ]
    },
    {
     "cell_type": "code",
     "collapsed": false,
     "input": [
      "p.cycper()"
     ],
     "language": "python",
     "metadata": {},
     "outputs": [
      {
       "metadata": {},
       "output_type": "pyout",
       "prompt_number": 160,
       "text": [
        "8.5710888990731629e-06"
       ]
      }
     ],
     "prompt_number": 160
    },
    {
     "cell_type": "code",
     "collapsed": false,
     "input": [
      "p.cycrad()"
     ],
     "language": "python",
     "metadata": {},
     "outputs": [
      {
       "metadata": {},
       "output_type": "pyout",
       "prompt_number": 161,
       "text": [
        "0.098787549981589062"
       ]
      }
     ],
     "prompt_number": 161
    },
    {
     "cell_type": "markdown",
     "metadata": {},
     "source": [
      "Follow the proton for some time."
     ]
    },
    {
     "cell_type": "code",
     "collapsed": false,
     "input": [
      "p.advance(4e-4)"
     ],
     "language": "python",
     "metadata": {},
     "outputs": [],
     "prompt_number": 157
    },
    {
     "cell_type": "markdown",
     "metadata": {},
     "source": [
      "Display the trajectory on the x-y plane."
     ]
    },
    {
     "cell_type": "code",
     "collapsed": false,
     "input": [
      "pl.plot(p.getx(), p.gety())\n",
      "pl.xlabel(\"x\")\n",
      "pl.ylabel(\"y\");"
     ],
     "language": "python",
     "metadata": {},
     "outputs": [
      {
       "metadata": {},
       "output_type": "pyout",
       "prompt_number": 159,
       "text": [
        "<matplotlib.text.Text at 0x7f5f6f52a630>"
       ]
      },
      {
       "metadata": {},
       "output_type": "display_data",
       "png": "[encoded data removed]",
       "text": [
        "<matplotlib.figure.Figure at 0x7f5f6f5c0b38>"
       ]
      }
     ],
     "prompt_number": 159
    },
    {
     "cell_type": "code",
     "collapsed": false,
     "input": [],
     "language": "python",
     "metadata": {},
     "outputs": []
    }
   ],
   "metadata": {}
  }
 ]
}